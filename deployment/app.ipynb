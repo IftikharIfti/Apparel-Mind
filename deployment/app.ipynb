{
  "nbformat": 4,
  "nbformat_minor": 0,
  "metadata": {
    "colab": {
      "provenance": []
    },
    "kernelspec": {
      "name": "python3",
      "display_name": "Python 3"
    },
    "language_info": {
      "name": "python"
    }
  },
  "cells": [
    {
      "cell_type": "markdown",
      "source": [
        "# Clothing recongnizer"
      ],
      "metadata": {
        "id": "Vcy9E5vQj1Iq"
      }
    },
    {
      "cell_type": "code",
      "execution_count": 1,
      "metadata": {
        "colab": {
          "base_uri": "https://localhost:8080/"
        },
        "id": "nAEf1UfHjexe",
        "outputId": "d010da11-f402-4cbb-a537-ee01c99d4b41"
      },
      "outputs": [
        {
          "output_type": "stream",
          "name": "stdout",
          "text": [
            "\u001b[2K     \u001b[90m━━━━━━━━━━━━━━━━━━━━━━━━━━━━━━━━━━━━━━━━\u001b[0m \u001b[32m44.3/44.3 kB\u001b[0m \u001b[31m2.2 MB/s\u001b[0m eta \u001b[36m0:00:00\u001b[0m\n",
            "\u001b[2K   \u001b[90m━━━━━━━━━━━━━━━━━━━━━━━━━━━━━━━━━━━━━━━━\u001b[0m \u001b[32m62.2/62.2 MB\u001b[0m \u001b[31m10.8 MB/s\u001b[0m eta \u001b[36m0:00:00\u001b[0m\n",
            "\u001b[2K   \u001b[90m━━━━━━━━━━━━━━━━━━━━━━━━━━━━━━━━━━━━━━━━\u001b[0m \u001b[32m321.9/321.9 kB\u001b[0m \u001b[31m14.6 MB/s\u001b[0m eta \u001b[36m0:00:00\u001b[0m\n",
            "\u001b[2K   \u001b[90m━━━━━━━━━━━━━━━━━━━━━━━━━━━━━━━━━━━━━━━━\u001b[0m \u001b[32m69.1/69.1 kB\u001b[0m \u001b[31m5.0 MB/s\u001b[0m eta \u001b[36m0:00:00\u001b[0m\n",
            "\u001b[2K   \u001b[90m━━━━━━━━━━━━━━━━━━━━━━━━━━━━━━━━━━━━━━━━\u001b[0m \u001b[32m94.8/94.8 kB\u001b[0m \u001b[31m5.6 MB/s\u001b[0m eta \u001b[36m0:00:00\u001b[0m\n",
            "\u001b[2K   \u001b[90m━━━━━━━━━━━━━━━━━━━━━━━━━━━━━━━━━━━━━━━━\u001b[0m \u001b[32m62.4/62.4 kB\u001b[0m \u001b[31m3.3 MB/s\u001b[0m eta \u001b[36m0:00:00\u001b[0m\n",
            "\u001b[2K   \u001b[90m━━━━━━━━━━━━━━━━━━━━━━━━━━━━━━━━━━━━━━━━\u001b[0m \u001b[32m12.5/12.5 MB\u001b[0m \u001b[31m43.0 MB/s\u001b[0m eta \u001b[36m0:00:00\u001b[0m\n",
            "\u001b[2K   \u001b[90m━━━━━━━━━━━━━━━━━━━━━━━━━━━━━━━━━━━━━━━━\u001b[0m \u001b[32m71.5/71.5 kB\u001b[0m \u001b[31m3.0 MB/s\u001b[0m eta \u001b[36m0:00:00\u001b[0m\n",
            "\u001b[2K   \u001b[90m━━━━━━━━━━━━━━━━━━━━━━━━━━━━━━━━━━━━━━━━\u001b[0m \u001b[32m363.4/363.4 MB\u001b[0m \u001b[31m2.8 MB/s\u001b[0m eta \u001b[36m0:00:00\u001b[0m\n",
            "\u001b[2K   \u001b[90m━━━━━━━━━━━━━━━━━━━━━━━━━━━━━━━━━━━━━━━━\u001b[0m \u001b[32m13.8/13.8 MB\u001b[0m \u001b[31m98.4 MB/s\u001b[0m eta \u001b[36m0:00:00\u001b[0m\n",
            "\u001b[2K   \u001b[90m━━━━━━━━━━━━━━━━━━━━━━━━━━━━━━━━━━━━━━━━\u001b[0m \u001b[32m24.6/24.6 MB\u001b[0m \u001b[31m73.8 MB/s\u001b[0m eta \u001b[36m0:00:00\u001b[0m\n",
            "\u001b[2K   \u001b[90m━━━━━━━━━━━━━━━━━━━━━━━━━━━━━━━━━━━━━━━━\u001b[0m \u001b[32m883.7/883.7 kB\u001b[0m \u001b[31m49.4 MB/s\u001b[0m eta \u001b[36m0:00:00\u001b[0m\n",
            "\u001b[2K   \u001b[90m━━━━━━━━━━━━━━━━━━━━━━━━━━━━━━━━━━━━━━━━\u001b[0m \u001b[32m664.8/664.8 MB\u001b[0m \u001b[31m850.0 kB/s\u001b[0m eta \u001b[36m0:00:00\u001b[0m\n",
            "\u001b[2K   \u001b[90m━━━━━━━━━━━━━━━━━━━━━━━━━━━━━━━━━━━━━━━━\u001b[0m \u001b[32m211.5/211.5 MB\u001b[0m \u001b[31m5.8 MB/s\u001b[0m eta \u001b[36m0:00:00\u001b[0m\n",
            "\u001b[2K   \u001b[90m━━━━━━━━━━━━━━━━━━━━━━━━━━━━━━━━━━━━━━━━\u001b[0m \u001b[32m56.3/56.3 MB\u001b[0m \u001b[31m11.9 MB/s\u001b[0m eta \u001b[36m0:00:00\u001b[0m\n",
            "\u001b[2K   \u001b[90m━━━━━━━━━━━━━━━━━━━━━━━━━━━━━━━━━━━━━━━━\u001b[0m \u001b[32m127.9/127.9 MB\u001b[0m \u001b[31m7.5 MB/s\u001b[0m eta \u001b[36m0:00:00\u001b[0m\n",
            "\u001b[2K   \u001b[90m━━━━━━━━━━━━━━━━━━━━━━━━━━━━━━━━━━━━━━━━\u001b[0m \u001b[32m207.5/207.5 MB\u001b[0m \u001b[31m6.3 MB/s\u001b[0m eta \u001b[36m0:00:00\u001b[0m\n",
            "\u001b[2K   \u001b[90m━━━━━━━━━━━━━━━━━━━━━━━━━━━━━━━━━━━━━━━━\u001b[0m \u001b[32m21.1/21.1 MB\u001b[0m \u001b[31m71.0 MB/s\u001b[0m eta \u001b[36m0:00:00\u001b[0m\n",
            "\u001b[2K   \u001b[90m━━━━━━━━━━━━━━━━━━━━━━━━━━━━━━━━━━━━━━━━\u001b[0m \u001b[32m62.3/62.3 kB\u001b[0m \u001b[31m5.5 MB/s\u001b[0m eta \u001b[36m0:00:00\u001b[0m\n",
            "\u001b[2K   \u001b[90m━━━━━━━━━━━━━━━━━━━━━━━━━━━━━━━━━━━━━━━━\u001b[0m \u001b[32m79.1/79.1 kB\u001b[0m \u001b[31m7.3 MB/s\u001b[0m eta \u001b[36m0:00:00\u001b[0m\n",
            "\u001b[2K   \u001b[90m━━━━━━━━━━━━━━━━━━━━━━━━━━━━━━━━━━━━━━━━\u001b[0m \u001b[32m1.6/1.6 MB\u001b[0m \u001b[31m63.7 MB/s\u001b[0m eta \u001b[36m0:00:00\u001b[0m\n",
            "\u001b[?25h"
          ]
        }
      ],
      "source": [
        "!pip install -Uqq fastai gradio nbdev"
      ]
    },
    {
      "cell_type": "code",
      "source": [
        "from fastai import *\n",
        "from fastai.vision.all import *\n",
        "from fastai.vision.widgets import *"
      ],
      "metadata": {
        "id": "Bw2BrQvDj4ui"
      },
      "execution_count": 8,
      "outputs": []
    },
    {
      "cell_type": "code",
      "source": [
        "#!export\n",
        "from fastai.vision.all import load_learner\n",
        "import gradio as gr"
      ],
      "metadata": {
        "id": "G-bIOz0tkAPp"
      },
      "execution_count": 66,
      "outputs": []
    },
    {
      "cell_type": "code",
      "source": [
        "from google.colab import drive\n",
        "drive.mount('/content/drive')"
      ],
      "metadata": {
        "colab": {
          "base_uri": "https://localhost:8080/"
        },
        "id": "vW6xeASCkJs-",
        "outputId": "006164c8-dda0-49b6-eff6-55c80b713219"
      },
      "execution_count": 4,
      "outputs": [
        {
          "output_type": "stream",
          "name": "stdout",
          "text": [
            "Mounted at /content/drive\n"
          ]
        }
      ]
    },
    {
      "cell_type": "code",
      "source": [
        "model_path=\"/content/drive/MyDrive/Clothing Classifications/models/clothing-recognizer-v9-resnet32-epoch3-bs32.pkl\"\n",
        "test_path=\"/content/drive/MyDrive/Clothing Classifications/test_images\""
      ],
      "metadata": {
        "id": "dKxvUHO0kOnA"
      },
      "execution_count": 10,
      "outputs": []
    },
    {
      "cell_type": "code",
      "source": [
        "def get_labels_with_category(path):\n",
        "    parts = list(path.parent.parts[-2:])  # Extract the last two folder names (Main Category, Item)\n",
        "\n",
        "\n",
        "    return f\"{parts[1]};{parts[0]}\""
      ],
      "metadata": {
        "id": "p-tHvzRNoxHk"
      },
      "execution_count": 12,
      "outputs": []
    },
    {
      "cell_type": "code",
      "source": [
        "#!export\n",
        "model = load_learner(model_path)"
      ],
      "metadata": {
        "id": "kMPUw9E5kQbK"
      },
      "execution_count": 13,
      "outputs": []
    },
    {
      "cell_type": "code",
      "source": [
        "#!export\n",
        "clothing_labels = [\n",
        "    \"Blazers;Upper Wear\",\n",
        "    \"Boots;Accessories\",\n",
        "    \"Formal Pants;Lower Wear\",\n",
        "    \"Handbags;Accessories\",\n",
        "    \"Hats;Accessories\",\n",
        "    \"High Heels;Accessories\",\n",
        "    \"Hoodies;Upper Wear\",\n",
        "    \"Jackets;Upper Wear\",\n",
        "    \"Jeans;Lower Wear\",\n",
        "    \"Joggers;Lower Wear\",\n",
        "    \"Sandals;Accessories\",\n",
        "    \"Shirts;Upper Wear\",\n",
        "    \"Shorts;Lower Wear\",\n",
        "    \"Sneakers;Accessories\",\n",
        "    \"Sweaters;Upper Wear\",\n",
        "    \"T-Shirts;Upper Wear\",\n",
        "    \"Watches;Accessories\"\n",
        "]\n",
        "\n"
      ],
      "metadata": {
        "id": "2LR9aZY4k2Sp"
      },
      "execution_count": 48,
      "outputs": []
    },
    {
      "cell_type": "code",
      "source": [
        "# def recognize_image(image):\n",
        "#   pred, idx, probs = model.predict(image)\n",
        "#   print(pred,idx,probs)\n",
        "#   return dict(zip(clothing_labels, map(float, probs)))"
      ],
      "metadata": {
        "id": "JENHtS18wMvQ"
      },
      "execution_count": 50,
      "outputs": []
    },
    {
      "cell_type": "code",
      "source": [
        "def recognize_image(image):\n",
        "    pred, idx, probs = model.predict(image)\n",
        "\n",
        "    subcategory, main_category = pred.split(';')\n",
        "    formatted_pred = f\"{subcategory} ({main_category})\"\n",
        "\n",
        "    label_probs = {f\"{subcat} ({main_cat})\": float(prob) for (subcat, main_cat), prob in zip((label.split(';') for label in clothing_labels), probs)}\n",
        "\n",
        "    print(f\"Prediction: {formatted_pred}\")\n",
        "    print(f\"Probability: {label_probs[formatted_pred]:.4f}\")\n",
        "\n",
        "    return label_probs\n"
      ],
      "metadata": {
        "id": "LHEFirJDRWJE"
      },
      "execution_count": 74,
      "outputs": []
    },
    {
      "cell_type": "code",
      "source": [
        "img = PILImage.create(\"/content/drive/MyDrive/Clothing Classifications/test_images/sample1.jpg\")\n",
        "img.thumbnail((192,192))\n",
        "img"
      ],
      "metadata": {
        "colab": {
          "base_uri": "https://localhost:8080/",
          "height": 209
        },
        "id": "j6DXf-3_k8HF",
        "outputId": "16a44c03-7636-4748-9973-ebe2bb16ba5c"
      },
      "execution_count": 76,
      "outputs": [
        {
          "output_type": "execute_result",
          "data": {
            "text/plain": [
              "PILImage mode=RGB size=128x192"
            ],
            "image/png": "[encoded data removed]",
            "image/jpeg": "[encoded data removed]"
          },
          "metadata": {},
          "execution_count": 76
        }
      ]
    },
    {
      "cell_type": "code",
      "source": [
        "recognize_image(img)"
      ],
      "metadata": {
        "colab": {
          "base_uri": "https://localhost:8080/",
          "height": 347
        },
        "id": "NFXeqr0CwPMS",
        "outputId": "7f5a3381-caa2-456b-94dc-26eb4cbb1650"
      },
      "execution_count": 77,
      "outputs": [
        {
          "output_type": "display_data",
          "data": {
            "text/plain": [
              "<IPython.core.display.HTML object>"
            ],
            "text/html": [
              "\n",
              "<style>\n",
              "    /* Turns off some styling */\n",
              "    progress {\n",
              "        /* gets rid of default border in Firefox and Opera. */\n",
              "        border: none;\n",
              "        /* Needs to be in here for Safari polyfill so background images work as expected. */\n",
              "        background-size: auto;\n",
              "    }\n",
              "    progress:not([value]), progress:not([value])::-webkit-progress-bar {\n",
              "        background: repeating-linear-gradient(45deg, #7e7e7e, #7e7e7e 10px, #5c5c5c 10px, #5c5c5c 20px);\n",
              "    }\n",
              "    .progress-bar-interrupted, .progress-bar-interrupted::-webkit-progress-bar {\n",
              "        background: #F44336;\n",
              "    }\n",
              "</style>\n"
            ]
          },
          "metadata": {}
        },
        {
          "output_type": "display_data",
          "data": {
            "text/plain": [
              "<IPython.core.display.HTML object>"
            ],
            "text/html": []
          },
          "metadata": {}
        },
        {
          "output_type": "stream",
          "name": "stdout",
          "text": [
            "Prediction: Formal Pants (Lower Wear)\n",
            "Probability: 0.9259\n"
          ]
        },
        {
          "output_type": "execute_result",
          "data": {
            "text/plain": [
              "{'Blazers (Upper Wear)': 1.8890568753704429e-06,\n",
              " 'Boots (Accessories)': 2.007999864872545e-05,\n",
              " 'Formal Pants (Lower Wear)': 0.9258865714073181,\n",
              " 'Handbags (Accessories)': 1.3635352843266446e-05,\n",
              " 'Hats (Accessories)': 4.197041198494844e-05,\n",
              " 'High Heels (Accessories)': 7.975385233294219e-05,\n",
              " 'Hoodies (Upper Wear)': 1.4407723938347772e-05,\n",
              " 'Jackets (Upper Wear)': 2.785650849546073e-06,\n",
              " 'Jeans (Lower Wear)': 2.4767976356088184e-05,\n",
              " 'Joggers (Lower Wear)': 0.07340112328529358,\n",
              " 'Sandals (Accessories)': 7.556132914032787e-06,\n",
              " 'Shirts (Upper Wear)': 7.677252142457291e-05,\n",
              " 'Shorts (Lower Wear)': 0.0003688909928314388,\n",
              " 'Sneakers (Accessories)': 2.0569163098116405e-05,\n",
              " 'Sweaters (Upper Wear)': 1.2809265172109008e-05,\n",
              " 'T-Shirts (Upper Wear)': 1.7605930224817712e-06,\n",
              " 'Watches (Accessories)': 2.4776622012723237e-05}"
            ]
          },
          "metadata": {},
          "execution_count": 77
        }
      ]
    },
    {
      "cell_type": "code",
      "source": [
        "doc(gr.Image)"
      ],
      "metadata": {
        "colab": {
          "base_uri": "https://localhost:8080/"
        },
        "id": "kRDpcbXfPQJn",
        "outputId": "1c9225db-892e-4962-81c4-3f2414778adc"
      },
      "execution_count": 69,
      "outputs": [
        {
          "output_type": "stream",
          "name": "stdout",
          "text": [
            "Image(value: 'str | PIL.Image.Image | np.ndarray | Callable | None' = None, *, format: 'str' = 'webp', height: 'int | str | None' = None, width: 'int | str | None' = None, image_mode: \"Literal['1', 'L', 'P', 'RGB', 'RGBA', 'CMYK', 'YCbCr', 'LAB', 'HSV', 'I', 'F'] | None\" = 'RGB', sources: \"list[Literal['upload', 'webcam', 'clipboard']] | Literal['upload', 'webcam', 'clipboard'] | None\" = None, type: \"Literal['numpy', 'pil', 'filepath']\" = 'numpy', label: 'str | None' = None, every: 'Timer | float | None' = None, inputs: 'Component | Sequence[Component] | set[Component] | None' = None, show_label: 'bool | None' = None, show_download_button: 'bool' = True, container: 'bool' = True, scale: 'int | None' = None, min_width: 'int' = 160, interactive: 'bool | None' = None, visible: 'bool' = True, streaming: 'bool' = False, elem_id: 'str | None' = None, elem_classes: 'list[str] | str | None' = None, render: 'bool' = True, key: 'int | str | None' = None, mirror_webcam: 'bool' = True, show_share_button: 'bool | None' = None, placeholder: 'str | None' = None, show_fullscreen_button: 'bool' = True, webcam_constraints: 'dict[str, Any] | None' = None)\n",
            "Creates an image component that can be used to upload images (as an input) or display images (as an output).\n",
            "\n",
            "Demos: sepia_filter, fake_diffusion\n",
            "Guides: image-classification-in-pytorch, image-classification-in-tensorflow, image-classification-with-vision-transformers, create-your-own-friends-with-a-gan\n",
            "\n",
            "To get a prettier result with hyperlinks to source code and documentation, install nbdev: pip install nbdev\n"
          ]
        }
      ]
    },
    {
      "cell_type": "code",
      "source": [
        "image = gr.Image(width=192, height=192)\n",
        "label = gr.Label()\n",
        "\n",
        "examples = [\n",
        "    \"/content/drive/MyDrive/Clothing Classifications/test_images/sample1.jpg\",\n",
        "    \"/content/drive/MyDrive/Clothing Classifications/test_images/sample2.jpg\",\n",
        "    \"/content/drive/MyDrive/Clothing Classifications/test_images/sample3.jpg\",\n",
        "    \"/content/drive/MyDrive/Clothing Classifications/test_images/sample4.jpg\"\n",
        "]\n",
        "\n",
        "iface = gr.Interface(fn=recognize_image, inputs=image, outputs=label, examples=examples)\n",
        "iface.launch(inline=False)"
      ],
      "metadata": {
        "colab": {
          "base_uri": "https://localhost:8080/"
        },
        "id": "DEpsNTwKntjF",
        "outputId": "2f545ed6-ef2c-4b1c-c522-41e834d0a81e"
      },
      "execution_count": 78,
      "outputs": [
        {
          "output_type": "stream",
          "name": "stdout",
          "text": [
            "Running Gradio in a Colab notebook requires sharing enabled. Automatically setting `share=True` (you can turn this off by setting `share=False` in `launch()` explicitly).\n",
            "\n",
            "Colab notebook detected. To show errors in colab notebook, set debug=True in launch()\n",
            "* Running on public URL: https://76848b60a10e0eed4c.gradio.live\n",
            "\n",
            "This share link expires in 72 hours. For free permanent hosting and GPU upgrades, run `gradio deploy` from the terminal in the working directory to deploy to Hugging Face Spaces (https://huggingface.co/spaces)\n"
          ]
        },
        {
          "output_type": "execute_result",
          "data": {
            "text/plain": []
          },
          "metadata": {},
          "execution_count": 78
        }
      ]
    },
    {
      "cell_type": "code",
      "source": [],
      "metadata": {
        "id": "PZujb4tyN5dY"
      },
      "execution_count": null,
      "outputs": []
    }
  ]
}